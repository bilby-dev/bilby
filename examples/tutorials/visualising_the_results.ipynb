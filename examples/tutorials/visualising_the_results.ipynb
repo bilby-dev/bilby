{
 "cells": [
  {
   "cell_type": "code",
   "execution_count": 1,
   "metadata": {},
   "outputs": [
    {
     "name": "stdout",
     "output_type": "stream",
     "text": [
      "rm: cannot remove 'visualising_the_results/*': No such file or directory\n"
     ]
    }
   ],
   "source": [
    "! rm visualising_the_results/*"
   ]
  },
  {
   "cell_type": "markdown",
   "metadata": {},
   "source": [
    "# Visualising the results\n",
    "\n",
    "In this tutorial, we demonstrate the plotting tools built-in to `bilby` and how to extend them. First, we run a simple injection study and return the `result` object."
   ]
  },
  {
   "cell_type": "code",
   "execution_count": 2,
   "metadata": {},
   "outputs": [
    {
     "name": "stderr",
     "output_type": "stream",
     "text": [
      "20:21 bilby INFO    : Waveform generator initiated with\n",
      "  frequency_domain_source_model: bilby.gw.source.lal_binary_black_hole\n",
      "  time_domain_source_model: None\n",
      "  parameter_conversion: bilby.gw.conversion.convert_to_lal_binary_black_hole_parameters\n",
      "20:21 bilby INFO    : No power spectral density provided, using aLIGO,zero detuning, high power.\n",
      "20:21 bilby INFO    : Injected signal in H1:\n",
      "20:21 bilby INFO    :   optimal SNR = 120.28\n",
      "20:21 bilby INFO    :   matched filter SNR = 119.95+0.65j\n",
      "20:21 bilby INFO    :   mass_1 = 36.0\n",
      "20:21 bilby INFO    :   mass_2 = 29.0\n",
      "20:21 bilby INFO    :   a_1 = 0.4\n",
      "20:21 bilby INFO    :   a_2 = 0.3\n",
      "20:21 bilby INFO    :   tilt_1 = 0.5\n",
      "20:21 bilby INFO    :   tilt_2 = 1.0\n",
      "20:21 bilby INFO    :   phi_12 = 1.7\n",
      "20:21 bilby INFO    :   phi_jl = 0.3\n",
      "20:21 bilby INFO    :   luminosity_distance = 200.0\n",
      "20:21 bilby INFO    :   theta_jn = 0.4\n",
      "20:21 bilby INFO    :   phase = 1.3\n",
      "20:21 bilby INFO    :   ra = 1.375\n",
      "20:21 bilby INFO    :   dec = -1.2108\n",
      "20:21 bilby INFO    :   geocent_time = 1126259642.413\n",
      "20:21 bilby INFO    :   psi = 2.659\n",
      "20:21 bilby INFO    : Running for label 'example', output will be saved to 'visualising_the_results'\n",
      "20:21 bilby INFO    : Using lal version 7.2.4\n",
      "20:21 bilby INFO    : Using lal git version Branch: None;Tag: lalsuite-v7.11;Id: 7a2f2aa176ad39eeaede38f6df4a41d6bf226e8f;;Builder: Unknown User <>;Repository status: CLEAN: All modifications committed\n",
      "20:21 bilby INFO    : Using lalsimulation version 4.0.2\n",
      "20:21 bilby INFO    : Using lalsimulation git version Branch: None;Tag: lalsuite-v7.11;Id: 7a2f2aa176ad39eeaede38f6df4a41d6bf226e8f;;Builder: Unknown User <>;Repository status: CLEAN: All modifications committed\n",
      "20:21 bilby INFO    : Analysis priors:\n",
      "20:21 bilby INFO    : mass_1=Uniform(minimum=20, maximum=50, name='mass_1', latex_label='$m_1$', unit=None, boundary=None)\n",
      "20:21 bilby INFO    : mass_2=Uniform(minimum=20, maximum=50, name='mass_2', latex_label='$m_2$', unit=None, boundary=None)\n",
      "20:21 bilby INFO    : luminosity_distance=Uniform(minimum=100, maximum=300, name='luminosity_distance', latex_label='$d_L$', unit=None, boundary=None)\n",
      "20:21 bilby INFO    : a_1=0.4\n",
      "20:21 bilby INFO    : a_2=0.3\n",
      "20:21 bilby INFO    : tilt_1=0.5\n",
      "20:21 bilby INFO    : tilt_2=1.0\n",
      "20:21 bilby INFO    : phi_12=1.7\n",
      "20:21 bilby INFO    : phi_jl=0.3\n",
      "20:21 bilby INFO    : theta_jn=0.4\n",
      "20:21 bilby INFO    : phase=1.3\n",
      "20:21 bilby INFO    : ra=1.375\n",
      "20:21 bilby INFO    : dec=-1.2108\n",
      "20:21 bilby INFO    : geocent_time=1126259642.413\n",
      "20:21 bilby INFO    : psi=2.659\n",
      "20:21 bilby INFO    : Analysis likelihood class: <class 'bilby.gw.likelihood.base.GravitationalWaveTransient'>\n",
      "20:21 bilby INFO    : Analysis likelihood noise evidence: -11304.422438181657\n",
      "20:21 bilby INFO    : Single likelihood evaluation took 2.449e-02 s\n",
      "20:21 bilby INFO    : Using sampler Dynesty with kwargs {'nlive': 100, 'bound': 'multi', 'sample': 'rwalk', 'periodic': None, 'reflective': None, 'update_interval': None, 'first_update': None, 'npdim': None, 'rstate': None, 'queue_size': 1, 'pool': None, 'use_pool': None, 'live_points': None, 'logl_args': None, 'logl_kwargs': None, 'ptform_args': None, 'ptform_kwargs': None, 'gradient': None, 'grad_args': None, 'grad_kwargs': None, 'compute_jac': False, 'enlarge': None, 'bootstrap': None, 'walks': 5, 'facc': 0.2, 'slices': None, 'fmove': 0.9, 'max_move': 100, 'update_func': None, 'ncdim': None, 'blob': False, 'save_history': False, 'history_filename': None, 'maxiter': None, 'maxcall': None, 'dlogz': 0.1, 'logl_max': inf, 'n_effective': None, 'add_live': True, 'print_progress': True, 'print_func': <bound method Dynesty._print_func of <bilby.core.sampler.dynesty.Dynesty object at 0x7f6a059138b0>>, 'save_bounds': False, 'checkpoint_file': None, 'checkpoint_every': 60, 'resume': False}\n",
      "20:21 bilby INFO    : Checkpoint every check_point_delta_t = 600s\n",
      "20:21 bilby INFO    : Using dynesty version 2.0.3\n",
      "20:21 bilby INFO    : Using the bilby-implemented rwalk sample method with ACT estimated walks\n",
      "20:21 bilby INFO    : Resume file visualising_the_results/example_resume.pickle does not exist.\n",
      "20:21 bilby INFO    : Generating initial points from the prior\n"
     ]
    },
    {
     "data": {
      "application/vnd.jupyter.widget-view+json": {
       "model_id": "3abef2685ff1483e8afa09549cbe6994",
       "version_major": 2,
       "version_minor": 0
      },
      "text/plain": [
       "1it [00:00, ?it/s]"
      ]
     },
     "metadata": {},
     "output_type": "display_data"
    },
    {
     "name": "stderr",
     "output_type": "stream",
     "text": [
      "20:31 bilby INFO    : Written checkpoint file visualising_the_results/example_resume.pickle\n",
      "/home/useradd/anaconda3/envs/py39/lib/python3.9/site-packages/dynesty/plotting.py:786: UserWarning: Attempting to set identical bottom == top == 0.0 results in singular transformations; automatically expanding.\n",
      "  ax.set_ylim([0., max(y0) * 1.05])\n",
      "/home/useradd/anaconda3/envs/py39/lib/python3.9/site-packages/dynesty/plotting.py:786: UserWarning: Attempting to set identical bottom == top == 0.0 results in singular transformations; automatically expanding.\n",
      "  ax.set_ylim([0., max(y0) * 1.05])\n",
      "/home/useradd/anaconda3/envs/py39/lib/python3.9/site-packages/dynesty/plotting.py:252: RuntimeWarning: overflow encountered in exp\n",
      "  np.exp(logwt), logz if logplot else np.exp(logz)\n",
      "/home/useradd/anaconda3/envs/py39/lib/python3.9/site-packages/dynesty/plotting.py:282: RuntimeWarning: overflow encountered in exp\n",
      "  zspan = (0., 1.05 * np.exp(logz[-1] + 3. * logzerr[-1]))\n",
      "20:31 bilby WARNING : Axis limits cannot be NaN or Inf\n",
      "20:31 bilby WARNING : Failed to create dynesty run plot at checkpoint\n",
      "20:41 bilby INFO    : Written checkpoint file visualising_the_results/example_resume.pickle\n",
      "20:41 bilby WARNING : singular matrix\n",
      "20:41 bilby WARNING : Failed to create dynesty state plot at checkpoint\n",
      "/home/useradd/anaconda3/envs/py39/lib/python3.9/site-packages/dynesty/plotting.py:252: RuntimeWarning: overflow encountered in exp\n",
      "  np.exp(logwt), logz if logplot else np.exp(logz)\n",
      "20:41 bilby WARNING : singular matrix\n",
      "20:41 bilby WARNING : Failed to create dynesty run plot at checkpoint\n",
      "20:52 bilby INFO    : Written checkpoint file visualising_the_results/example_resume.pickle\n",
      "/home/useradd/anaconda3/envs/py39/lib/python3.9/site-packages/dynesty/plotting.py:252: RuntimeWarning: overflow encountered in exp\n",
      "  np.exp(logwt), logz if logplot else np.exp(logz)\n",
      "/home/useradd/anaconda3/envs/py39/lib/python3.9/site-packages/dynesty/plotting.py:282: RuntimeWarning: overflow encountered in exp\n",
      "  zspan = (0., 1.05 * np.exp(logz[-1] + 3. * logzerr[-1]))\n",
      "20:52 bilby WARNING : Axis limits cannot be NaN or Inf\n",
      "20:52 bilby WARNING : Failed to create dynesty run plot at checkpoint\n",
      "21:02 bilby INFO    : Written checkpoint file visualising_the_results/example_resume.pickle\n",
      "/home/useradd/anaconda3/envs/py39/lib/python3.9/site-packages/dynesty/plotting.py:252: RuntimeWarning: overflow encountered in exp\n",
      "  np.exp(logwt), logz if logplot else np.exp(logz)\n",
      "/home/useradd/anaconda3/envs/py39/lib/python3.9/site-packages/dynesty/plotting.py:282: RuntimeWarning: overflow encountered in exp\n",
      "  zspan = (0., 1.05 * np.exp(logz[-1] + 3. * logzerr[-1]))\n",
      "21:02 bilby WARNING : Axis limits cannot be NaN or Inf\n",
      "21:02 bilby WARNING : Failed to create dynesty run plot at checkpoint\n",
      "21:12 bilby INFO    : Written checkpoint file visualising_the_results/example_resume.pickle\n",
      "/home/useradd/anaconda3/envs/py39/lib/python3.9/site-packages/dynesty/plotting.py:252: RuntimeWarning: overflow encountered in exp\n",
      "  np.exp(logwt), logz if logplot else np.exp(logz)\n",
      "/home/useradd/anaconda3/envs/py39/lib/python3.9/site-packages/dynesty/plotting.py:282: RuntimeWarning: overflow encountered in exp\n",
      "  zspan = (0., 1.05 * np.exp(logz[-1] + 3. * logzerr[-1]))\n",
      "21:12 bilby WARNING : Axis limits cannot be NaN or Inf\n",
      "21:12 bilby WARNING : Failed to create dynesty run plot at checkpoint\n",
      "21:22 bilby INFO    : Written checkpoint file visualising_the_results/example_resume.pickle\n",
      "/home/useradd/anaconda3/envs/py39/lib/python3.9/site-packages/dynesty/plotting.py:252: RuntimeWarning: overflow encountered in exp\n",
      "  np.exp(logwt), logz if logplot else np.exp(logz)\n",
      "/home/useradd/anaconda3/envs/py39/lib/python3.9/site-packages/dynesty/plotting.py:282: RuntimeWarning: overflow encountered in exp\n",
      "  zspan = (0., 1.05 * np.exp(logz[-1] + 3. * logzerr[-1]))\n",
      "21:22 bilby WARNING : Axis limits cannot be NaN or Inf\n",
      "21:22 bilby WARNING : Failed to create dynesty run plot at checkpoint\n",
      "21:33 bilby INFO    : Written checkpoint file visualising_the_results/example_resume.pickle\n",
      "/home/useradd/anaconda3/envs/py39/lib/python3.9/site-packages/dynesty/plotting.py:252: RuntimeWarning: overflow encountered in exp\n",
      "  np.exp(logwt), logz if logplot else np.exp(logz)\n",
      "/home/useradd/anaconda3/envs/py39/lib/python3.9/site-packages/dynesty/plotting.py:282: RuntimeWarning: overflow encountered in exp\n",
      "  zspan = (0., 1.05 * np.exp(logz[-1] + 3. * logzerr[-1]))\n",
      "21:33 bilby WARNING : Axis limits cannot be NaN or Inf\n",
      "21:33 bilby WARNING : Failed to create dynesty run plot at checkpoint\n",
      "21:43 bilby INFO    : Written checkpoint file visualising_the_results/example_resume.pickle\n",
      "/home/useradd/anaconda3/envs/py39/lib/python3.9/site-packages/dynesty/plotting.py:252: RuntimeWarning: overflow encountered in exp\n",
      "  np.exp(logwt), logz if logplot else np.exp(logz)\n",
      "/home/useradd/anaconda3/envs/py39/lib/python3.9/site-packages/dynesty/plotting.py:282: RuntimeWarning: overflow encountered in exp\n",
      "  zspan = (0., 1.05 * np.exp(logz[-1] + 3. * logzerr[-1]))\n",
      "21:43 bilby WARNING : Axis limits cannot be NaN or Inf\n",
      "21:43 bilby WARNING : Failed to create dynesty run plot at checkpoint\n",
      "21:53 bilby INFO    : Written checkpoint file visualising_the_results/example_resume.pickle\n",
      "/home/useradd/anaconda3/envs/py39/lib/python3.9/site-packages/dynesty/plotting.py:252: RuntimeWarning: overflow encountered in exp\n",
      "  np.exp(logwt), logz if logplot else np.exp(logz)\n",
      "/home/useradd/anaconda3/envs/py39/lib/python3.9/site-packages/dynesty/plotting.py:282: RuntimeWarning: overflow encountered in exp\n",
      "  zspan = (0., 1.05 * np.exp(logz[-1] + 3. * logzerr[-1]))\n",
      "21:53 bilby WARNING : Axis limits cannot be NaN or Inf\n",
      "21:53 bilby WARNING : Failed to create dynesty run plot at checkpoint\n",
      "22:03 bilby INFO    : Written checkpoint file visualising_the_results/example_resume.pickle\n",
      "/home/useradd/anaconda3/envs/py39/lib/python3.9/site-packages/dynesty/plotting.py:252: RuntimeWarning: overflow encountered in exp\n",
      "  np.exp(logwt), logz if logplot else np.exp(logz)\n",
      "/home/useradd/anaconda3/envs/py39/lib/python3.9/site-packages/dynesty/plotting.py:282: RuntimeWarning: overflow encountered in exp\n",
      "  zspan = (0., 1.05 * np.exp(logz[-1] + 3. * logzerr[-1]))\n",
      "22:03 bilby WARNING : Axis limits cannot be NaN or Inf\n",
      "22:03 bilby WARNING : Failed to create dynesty run plot at checkpoint\n",
      "22:11 bilby INFO    : Written checkpoint file visualising_the_results/example_resume.pickle\n",
      "/home/useradd/anaconda3/envs/py39/lib/python3.9/site-packages/dynesty/plotting.py:252: RuntimeWarning: overflow encountered in exp\n",
      "  np.exp(logwt), logz if logplot else np.exp(logz)\n",
      "/home/useradd/anaconda3/envs/py39/lib/python3.9/site-packages/dynesty/plotting.py:282: RuntimeWarning: overflow encountered in exp\n",
      "  zspan = (0., 1.05 * np.exp(logz[-1] + 3. * logzerr[-1]))\n",
      "22:11 bilby WARNING : Axis limits cannot be NaN or Inf\n",
      "22:11 bilby WARNING : Failed to create dynesty run plot at checkpoint\n",
      "22:11 bilby INFO    : Sampling time: 1:49:54.788549\n",
      "22:11 bilby INFO    : Summary of results:\n",
      "nsamples: 1968\n",
      "ln_noise_evidence: -11304.422\n",
      "ln_evidence: -4125.909 +/-  0.448\n",
      "ln_bayes_factor: 7178.514 +/-  0.448\n",
      "\n"
     ]
    },
    {
     "name": "stdout",
     "output_type": "stream",
     "text": [
      "\n"
     ]
    }
   ],
   "source": [
    "import bilby\n",
    "import matplotlib.pyplot as plt\n",
    "%matplotlib inline\n",
    "\n",
    "time_duration = 4.                     # time duration (seconds)\n",
    "sampling_frequency = 2048.             # sampling frequency (Hz)\n",
    "outdir = 'visualising_the_results'     # directory in which to store output\n",
    "label = 'example'                      # identifier to apply to output files\n",
    "\n",
    "# specify injection parameters\n",
    "injection_parameters = dict(\n",
    "mass_1=36.,                          # detector frame (redshifted) primary mass (solar masses)\n",
    "mass_2=29.,                          # detector frame (redshifted) secondary mass (solar masses)\n",
    "a_1=0.4,                             # primary dimensionless spin magnitude\n",
    "a_2=0.3,                             # secondary dimensionless spin magnitude\n",
    "tilt_1=0.5,                          # polar angle between primary spin and the orbital angular momentum (radians)\n",
    "tilt_2=1.0,                          # polar angle between secondary spin and the orbital angular momentum \n",
    "phi_12=1.7,                          # azimuthal angle between primary and secondary spin (radians)\n",
    "phi_jl=0.3,                          # azimuthal angle between total angular momentum and orbital angular momentum (radians)\n",
    "luminosity_distance=200.,            # luminosity distance to source (Mpc)\n",
    "theta_jn=0.4,                        # inclination angle between line of sight and orbital angular momentum (radians)\n",
    "phase=1.3,                           # phase (radians)\n",
    "ra=1.375,                            # source right ascension (radians)\n",
    "dec=-1.2108,                         # source declination (radians)\n",
    "geocent_time=1126259642.413,         # reference time at geocentre (time of coalescence or peak amplitude) (GPS seconds)\n",
    "psi=2.659                            # gravitational wave polarisation angle\n",
    ")\n",
    "\n",
    "# specify waveform arguments\n",
    "waveform_arguments = dict(\n",
    "waveform_approximant='IMRPhenomPv2', # waveform approximant name\n",
    "reference_frequency=50.,             # gravitational waveform reference frequency (Hz)\n",
    ")\n",
    "\n",
    "# set up the waveform generator\n",
    "waveform_generator = bilby.gw.waveform_generator.WaveformGenerator(\n",
    "    sampling_frequency=sampling_frequency, duration=time_duration,\n",
    "    frequency_domain_source_model=bilby.gw.source.lal_binary_black_hole,\n",
    "    parameters=injection_parameters, waveform_arguments=waveform_arguments)\n",
    "# create the frequency domain signal\n",
    "hf_signal = waveform_generator.frequency_domain_strain()\n",
    "\n",
    "# initialise an interferometer based on LIGO Hanford, complete with simulated noise and injected signal\n",
    "IFOs = [bilby.gw.detector.get_interferometer_with_fake_noise_and_injection(\n",
    "    'H1', injection_polarizations=hf_signal, injection_parameters=injection_parameters, duration=time_duration,\n",
    "    sampling_frequency=sampling_frequency, outdir=outdir)]\n",
    "\n",
    "# first, set up all priors to be equal to a delta function at their designated value\n",
    "priors = bilby.gw.prior.BBHPriorDict(injection_parameters.copy())\n",
    "# then, reset the priors on the masses and luminosity distance to conduct a search over these parameters\n",
    "priors['mass_1'] = bilby.core.prior.Uniform(20, 50, 'mass_1')\n",
    "priors['mass_2'] = bilby.core.prior.Uniform(20, 50, 'mass_2')\n",
    "priors['luminosity_distance'] = bilby.core.prior.Uniform(100, 300, 'luminosity_distance')\n",
    "\n",
    "# compute the likelihoods\n",
    "likelihood = bilby.gw.likelihood.GravitationalWaveTransient(interferometers=IFOs, waveform_generator=waveform_generator)\n",
    "\n",
    "result = bilby.core.sampler.run_sampler(likelihood=likelihood, priors=priors, sampler='dynesty', npoints=100,\n",
    "                                   injection_parameters=injection_parameters, outdir=outdir, label=label,\n",
    "                                   walks=5)\n",
    "\n",
    "# display the corner plot\n",
    "plt.show()"
   ]
  },
  {
   "cell_type": "markdown",
   "metadata": {},
   "source": [
    "In running this code, we already made the first plot! In the function `bilby.detector.get_interferometer_with_fake_noise_and_injection`, the ASD, detector data, and signal are plotted together. This figure is saved under `visualsing_the_results/H1_frequency_domain_data.png`. Note that `visualising_the_result` is our `outdir` where all the output of the run is stored. Let's take a quick look at that directory now:"
   ]
  },
  {
   "cell_type": "code",
   "execution_count": null,
   "metadata": {},
   "outputs": [],
   "source": [
    "!ls visualising_the_results/"
   ]
  },
  {
   "cell_type": "markdown",
   "metadata": {},
   "source": [
    "## Corner plots\n",
    "\n",
    "Now lets make some corner plots. You can easily generate a corner plot using `result.plot_corner()` like this:"
   ]
  },
  {
   "cell_type": "code",
   "execution_count": null,
   "metadata": {},
   "outputs": [],
   "source": [
    "result.plot_corner()\n",
    "plt.show()"
   ]
  },
  {
   "cell_type": "markdown",
   "metadata": {},
   "source": [
    "In a notebook, this figure will display. But by default the file is also saved to `visualising_the_result/example_corner.png`. If you change the label to something more descriptive then the `example` here will of course be replaced."
   ]
  },
  {
   "cell_type": "markdown",
   "metadata": {},
   "source": [
    "You may also want to plot a subset of the parameters, or perhaps add the `injection_paramters` as lines to check if you recovered them correctly. All this can be done through `plot_corner`. Under the hood, `plot_corner` uses\n",
    "[chain consumer](https://samreay.github.io/ChainConsumer/index.html), and all the keyword arguments passed to `plot_corner` are passed through to [the `plot` function of chain consumer](https://samreay.github.io/ChainConsumer/chain_api.html#chainconsumer.plotter.Plotter.plot).\n",
    "\n",
    "### Adding injection parameters to the plot\n",
    "\n",
    "In the previous plot, you'll notice `bilby` added the injection parameters to the plot by default. You can switch this off by setting `truth=None` when you call `plot_corner`. Or to add different injection parameters to the plot, just pass this as a keyword argument for `truth`. In this example, we just add a line for the luminosity distance by passing a dictionary of the value we want to display."
   ]
  },
  {
   "cell_type": "code",
   "execution_count": null,
   "metadata": {},
   "outputs": [],
   "source": [
    "result.plot_corner(truth=dict(luminosity_distance=201))\n",
    "plt.show()"
   ]
  },
  {
   "cell_type": "markdown",
   "metadata": {},
   "source": [
    "### Plot a subset of the corner plot\n",
    "\n",
    "Or, to plot just a subset of parameters, just pass a list of the names you want."
   ]
  },
  {
   "cell_type": "code",
   "execution_count": null,
   "metadata": {},
   "outputs": [],
   "source": [
    "result.plot_corner(parameters=['mass_1', 'mass_2'], filename='{}/subset.png'.format(outdir))\n",
    "plt.show()"
   ]
  },
  {
   "cell_type": "markdown",
   "metadata": {},
   "source": [
    "Notice here, we also passed in a keyword argument `filename=`, this overwrites the default filename and instead saves the file as `visualising_the_results/subset.png`. Useful if you want to create lots of different plots. Let's check what the outdir looks like now"
   ]
  },
  {
   "cell_type": "code",
   "execution_count": null,
   "metadata": {},
   "outputs": [],
   "source": [
    "!ls visualising_the_results/"
   ]
  },
  {
   "cell_type": "markdown",
   "metadata": {},
   "source": [
    "## Alternative\n",
    "\n",
    "If you would prefer to do the plotting yourself, you can get hold of the samples and the ordering as follows and then plot with a different module. Here is an example using the [`corner`](http://corner.readthedocs.io/en/latest/) package"
   ]
  },
  {
   "cell_type": "code",
   "execution_count": null,
   "metadata": {},
   "outputs": [],
   "source": [
    "import corner\n",
    "samples = result.samples\n",
    "labels = result.parameter_labels\n",
    "fig = corner.corner(samples, labels=labels)\n",
    "plt.show()"
   ]
  },
  {
   "cell_type": "markdown",
   "metadata": {},
   "source": [
    "## Other plots\n",
    "\n",
    "We also include some other types of plots which may be useful. Again, these are built on chain consumer so you may find it useful to check the [documentation](https://samreay.github.io/ChainConsumer/chain_api.html#plotter-class) to see how these plots can be extended. Below, we show just one example of these.\n",
    "\n",
    "#### Distribution plots\n",
    "\n",
    "These plots just show the 1D histograms for each parameter"
   ]
  },
  {
   "cell_type": "code",
   "execution_count": null,
   "metadata": {},
   "outputs": [],
   "source": [
    "result.plot_marginals()\n",
    "plt.show()"
   ]
  },
  {
   "cell_type": "markdown",
   "metadata": {
    "pycharm": {
     "name": "#%% md\n"
    }
   },
   "source": [
    "#### Best-Fit Time Domain Waveform plot\n",
    "Some plots specific to compact binary coalescence parameter estimation results can\n",
    "be created by re-loading the result as a `CBCResult`:"
   ]
  },
  {
   "cell_type": "code",
   "execution_count": null,
   "metadata": {
    "pycharm": {
     "name": "#%%\n"
    }
   },
   "outputs": [],
   "source": [
    "from bilby.gw.result import CBCResult\n",
    "\n",
    "cbc_result = CBCResult.from_json(\"visualising_the_results/example_result.json\")\n",
    "cbc_result.plot_waveform_posterior()\n",
    "plt.show()"
   ]
  },
  {
   "cell_type": "markdown",
   "metadata": {},
   "source": [
    "Again, notice that the plot is saved as a \"waveform.png\" in the output dir.\n",
    "\n",
    "\n",
    "\n"
   ]
  }
 ],
 "metadata": {
  "kernelspec": {
   "display_name": "py39",
   "language": "python",
   "name": "python3"
  },
  "language_info": {
   "codemirror_mode": {
    "name": "ipython",
    "version": 3
   },
   "file_extension": ".py",
   "mimetype": "text/x-python",
   "name": "python",
   "nbconvert_exporter": "python",
   "pygments_lexer": "ipython3",
   "version": "3.9.15"
  },
  "vscode": {
   "interpreter": {
    "hash": "ce95bca6af9915c87af1d7884c75225323533e32849729132b38f7ef50387511"
   }
  }
 },
 "nbformat": 4,
 "nbformat_minor": 2
}
