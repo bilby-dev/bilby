{
 "cells": [
  {
   "cell_type": "code",
   "execution_count": null,
   "metadata": {},
   "outputs": [],
   "source": [
    "! rm visualising_the_results/*"
   ]
  },
  {
   "cell_type": "markdown",
   "metadata": {},
   "source": [
    "# Visualising the results\n",
    "\n",
    "In this tutorial, we demonstrate the plotting tools built-in to `bilby` and how to extend them. First, we run a simple injection study and return the `result` object."
   ]
  },
  {
   "cell_type": "code",
   "execution_count": null,
   "metadata": {},
   "outputs": [],
   "source": [
    "import bilby\n",
    "import matplotlib.pyplot as plt\n",
    "\n",
    "%matplotlib inline"
   ]
  },
  {
   "cell_type": "code",
   "execution_count": null,
   "metadata": {},
   "outputs": [],
   "source": [
    "duration = 4\n",
    "sampling_frequency = 2048\n",
    "outdir = \"visualising_the_results\"\n",
    "label = \"example\"\n",
    "\n",
    "injection_parameters = dict(\n",
    "    mass_1=36.0,\n",
    "    mass_2=29.0,\n",
    "    a_1=0.4,\n",
    "    a_2=0.3,\n",
    "    tilt_1=0.5,\n",
    "    tilt_2=1.0,\n",
    "    phi_12=1.7,\n",
    "    phi_jl=0.3,\n",
    "    luminosity_distance=1000.0,\n",
    "    theta_jn=0.4,\n",
    "    phase=1.3,\n",
    "    ra=1.375,\n",
    "    dec=-1.2108,\n",
    "    geocent_time=1126259642.413,\n",
    "    psi=2.659,\n",
    ")"
   ]
  },
  {
   "cell_type": "code",
   "execution_count": null,
   "metadata": {},
   "outputs": [],
   "source": [
    "# specify waveform arguments\n",
    "waveform_arguments = dict(\n",
    "    waveform_approximant=\"IMRPhenomXP\",  # waveform approximant name\n",
    "    reference_frequency=50.0,  # gravitational waveform reference frequency (Hz)\n",
    ")\n",
    "\n",
    "# set up the waveform generator\n",
    "waveform_generator = bilby.gw.waveform_generator.WaveformGenerator(\n",
    "    sampling_frequency=sampling_frequency,\n",
    "    duration=duration,\n",
    "    frequency_domain_source_model=bilby.gw.source.lal_binary_black_hole,\n",
    "    parameters=injection_parameters,\n",
    "    waveform_arguments=waveform_arguments,\n",
    ")"
   ]
  },
  {
   "cell_type": "code",
   "execution_count": null,
   "metadata": {},
   "outputs": [],
   "source": [
    "ifos = bilby.gw.detector.InterferometerList([\"H1\", \"L1\"])\n",
    "ifos.set_strain_data_from_power_spectral_densities(\n",
    "    duration=duration,\n",
    "    sampling_frequency=sampling_frequency,\n",
    "    start_time=injection_parameters[\"geocent_time\"] - 2,\n",
    ")\n",
    "_ = ifos.inject_signal(\n",
    "    waveform_generator=waveform_generator, parameters=injection_parameters\n",
    ")"
   ]
  },
  {
   "cell_type": "code",
   "execution_count": null,
   "metadata": {},
   "outputs": [],
   "source": [
    "# first, set up all priors to be equal to a delta function at their designated value\n",
    "priors = bilby.gw.prior.BBHPriorDict(injection_parameters.copy())\n",
    "# then, reset the priors on the masses and luminosity distance to conduct a search over these parameters\n",
    "priors[\"mass_1\"] = bilby.core.prior.Uniform(25, 40, \"mass_1\")\n",
    "priors[\"mass_2\"] = bilby.core.prior.Uniform(25, 40, \"mass_2\")\n",
    "priors[\"luminosity_distance\"] = bilby.core.prior.Uniform(\n",
    "    400, 2000, \"luminosity_distance\"\n",
    ")"
   ]
  },
  {
   "cell_type": "code",
   "execution_count": null,
   "metadata": {},
   "outputs": [],
   "source": [
    "# compute the likelihoods\n",
    "likelihood = bilby.gw.likelihood.GravitationalWaveTransient(\n",
    "    interferometers=ifos, waveform_generator=waveform_generator\n",
    ")"
   ]
  },
  {
   "cell_type": "markdown",
   "metadata": {},
   "source": [
    "### Set up the sampling\n",
    "\n",
    "For this case we use the `dynesty` sampler with 100 live points and the uniform sampling method.\n",
    "While these settings are sufficient for this simple, three-dimensional problem, they often don't work for more complex cases."
   ]
  },
  {
   "cell_type": "code",
   "execution_count": null,
   "metadata": {},
   "outputs": [],
   "source": [
    "result = bilby.core.sampler.run_sampler(\n",
    "    likelihood=likelihood,\n",
    "    priors=priors,\n",
    "    sampler=\"dynesty\",\n",
    "    npoints=100,\n",
    "    injection_parameters=injection_parameters,\n",
    "    outdir=outdir,\n",
    "    label=label,\n",
    "    sample=\"unif\",\n",
    ")"
   ]
  },
  {
   "cell_type": "markdown",
   "metadata": {},
   "source": [
    "## Corner plots\n",
    "\n",
    "Now lets make some corner plots. You can easily generate a corner plot using `result.plot_corner()` like this:"
   ]
  },
  {
   "cell_type": "code",
   "execution_count": null,
   "metadata": {},
   "outputs": [],
   "source": [
    "result.plot_corner(save=False)\n",
    "plt.show()\n",
    "plt.close()"
   ]
  },
  {
   "cell_type": "markdown",
   "metadata": {},
   "source": [
    "In a notebook, this figure will display. But by default the file is also saved to `visualising_the_result/example_corner.png`. If you change the label to something more descriptive then the `example` here will of course be replaced."
   ]
  },
  {
   "cell_type": "markdown",
   "metadata": {},
   "source": [
    "## Waveform Reconstruction plot\n",
    "Some plots specific to compact binary coalescence parameter estimation results can\n",
    "be created by re-loading the result as a `CBCResult`:"
   ]
  },
  {
   "cell_type": "code",
   "execution_count": null,
   "metadata": {},
   "outputs": [],
   "source": [
    "from bilby.gw.result import CBCResult\n",
    "\n",
    "cbc_result = CBCResult.from_json(\"visualising_the_results/example_result.json\")\n",
    "for ifo in ifos:\n",
    "    cbc_result.plot_interferometer_waveform_posterior(\n",
    "        interferometer=ifo, n_samples=500, save=False\n",
    "    )\n",
    "    plt.show()\n",
    "    plt.close()"
   ]
  },
  {
   "cell_type": "markdown",
   "metadata": {},
   "source": [
    "### Marginal Distribution plots\n",
    "\n",
    "These plots just show the 1D histograms for each parameter"
   ]
  },
  {
   "cell_type": "code",
   "execution_count": null,
   "metadata": {},
   "outputs": [],
   "source": [
    "result.plot_marginals()"
   ]
  },
  {
   "cell_type": "markdown",
   "metadata": {},
   "source": [
    "## Customizing corner plots\n",
    "\n",
    "You may also want to plot a subset of the parameters, or perhaps add the `injection_paramters` as lines to check if you recovered them correctly. All this can be done through `plot_corner`. Under the hood, `plot_corner` uses [corner](https://github.com/dfm/corner.py), and all the keyword arguments passed to `plot_corner` are passed through.\n",
    "\n",
    "### Adding injection parameters to the plot\n",
    "\n",
    "In the previous plot, you'll notice `bilby` added the injection parameters to the plot by default. You can switch this off by setting `truth=None` when you call `plot_corner`. Or to add different injection parameters to the plot, just pass this as a keyword argument for `truth`. In this example, we just add a line for the luminosity distance by passing a dictionary of the value we want to display."
   ]
  },
  {
   "cell_type": "code",
   "execution_count": null,
   "metadata": {},
   "outputs": [],
   "source": [
    "result.plot_corner(truth=dict(luminosity_distance=201))\n",
    "plt.show()\n",
    "plt.close()"
   ]
  },
  {
   "cell_type": "markdown",
   "metadata": {},
   "source": [
    "### Plot a subset of the corner plot\n",
    "\n",
    "Or, to plot just a subset of parameters, just pass a list of the names you want."
   ]
  },
  {
   "cell_type": "code",
   "execution_count": null,
   "metadata": {},
   "outputs": [],
   "source": [
    "result.plot_corner(\n",
    "    parameters=[\"mass_1\", \"mass_2\"], filename=\"{}/subset.png\".format(outdir)\n",
    ")\n",
    "plt.show()\n",
    "plt.close()"
   ]
  },
  {
   "cell_type": "markdown",
   "metadata": {},
   "source": [
    "Notice here, we also passed in a keyword argument `filename=`, this overwrites the default filename and instead saves the file as `visualising_the_results/subset.png`. Useful if you want to create lots of different plots."
   ]
  },
  {
   "cell_type": "markdown",
   "metadata": {},
   "source": [
    "## Alternative\n",
    "\n",
    "If you would prefer to do the plotting yourself, you can get hold of the samples and the ordering as follows and then plot with a different module. Here is an example using the [corner](http://corner.readthedocs.io/en/latest/) package"
   ]
  },
  {
   "cell_type": "code",
   "execution_count": null,
   "metadata": {},
   "outputs": [],
   "source": [
    "import corner\n",
    "\n",
    "samples = result.samples\n",
    "labels = result.parameter_labels\n",
    "fig = corner.corner(samples, labels=labels)\n",
    "plt.show()\n",
    "plt.close()"
   ]
  }
 ],
 "metadata": {},
 "nbformat": 4,
 "nbformat_minor": 4
}
