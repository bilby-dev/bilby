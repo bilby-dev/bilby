{
 "cells": [
  {
   "cell_type": "markdown",
   "metadata": {},
   "source": [
    "# Compare samplers\n",
    "\n",
    "In this notebook, we'll compare the different samplers implemented in `bilby`. As of this version, we don't compare the outputs, only how to run them and the timings for their default setup.\n",
    "\n",
    "## Setup"
   ]
  },
  {
   "cell_type": "code",
   "execution_count": 2,
   "metadata": {
    "execution": {
     "iopub.execute_input": "2021-02-05T22:05:40.710069Z",
     "iopub.status.busy": "2021-02-05T22:05:40.709587Z",
     "iopub.status.idle": "2021-02-05T22:05:43.017567Z",
     "shell.execute_reply": "2021-02-05T22:05:43.018795Z"
    }
   },
   "outputs": [
    {
     "name": "stderr",
     "output_type": "stream",
     "text": [
      "15:17 bilby INFO    : Waveform generator initiated with\n",
      "  frequency_domain_source_model: bilby.gw.source.lal_binary_black_hole\n",
      "  time_domain_source_model: None\n",
      "  parameter_conversion: bilby.gw.conversion.convert_to_lal_binary_black_hole_parameters\n",
      "15:17 bilby WARNING : Injecting signal outside segment, start_time=0, merger time=1126259642.413.\n",
      "15:17 bilby INFO    : Injected signal in H1:\n",
      "15:17 bilby INFO    :   optimal SNR = 265.46\n",
      "15:17 bilby INFO    :   matched filter SNR = 265.96-0.88j\n",
      "15:17 bilby INFO    :   chirp_mass = 36.0\n",
      "15:17 bilby INFO    :   mass_ratio = 0.9\n",
      "15:17 bilby INFO    :   a_1 = 0\n",
      "15:17 bilby INFO    :   a_2 = 0\n",
      "15:17 bilby INFO    :   tilt_1 = 0\n",
      "15:17 bilby INFO    :   tilt_2 = 0\n",
      "15:17 bilby INFO    :   phi_12 = 0\n",
      "15:17 bilby INFO    :   phi_jl = 0\n",
      "15:17 bilby INFO    :   luminosity_distance = 100.0\n",
      "15:17 bilby INFO    :   theta_jn = 0.4\n",
      "15:17 bilby INFO    :   phase = 1.3\n",
      "15:17 bilby INFO    :   ra = 1.375\n",
      "15:17 bilby INFO    :   dec = -1.2108\n",
      "15:17 bilby INFO    :   geocent_time = 1126259642.413\n",
      "15:17 bilby INFO    :   psi = 2.659\n"
     ]
    },
    {
     "name": "stdout",
     "output_type": "stream",
     "text": [
      "The autoreload extension is already loaded. To reload it, use:\n",
      "  %reload_ext autoreload\n"
     ]
    }
   ],
   "source": [
    "import numpy as np\n",
    "import pylab as plt\n",
    "\n",
    "%load_ext autoreload\n",
    "%autoreload 2\n",
    "\n",
    "import bilby\n",
    "\n",
    "bilby.utils.setup_logger()\n",
    "\n",
    "time_duration = 1.         # set the signal duration (seconds)\n",
    "sampling_frequency = 4096. # set the data sampling frequency (Hz)\n",
    "\n",
    "injection_parameters = dict(\n",
    "chirp_mass=36.,                          # detector frame (redshifted) primary mass (solar masses)\n",
    "mass_ratio=0.9,                          # detector frame (redshifted) secondary mass (solar masses)\n",
    "a_1=0,                               # primary dimensionless spin magnitude\n",
    "a_2=0,                               # secondary dimensionless spin magnitude\n",
    "tilt_1=0,                            # polar angle between primary spin and the orbital angular momentum (radians)\n",
    "tilt_2=0,                            # polar angle between secondary spin and the orbital angular momentum \n",
    "phi_12=0,                            # azimuthal angle between primary and secondary spin (radians)\n",
    "phi_jl=0,                            # azimuthal angle between total angular momentum and orbital angular momentum (radians)\n",
    "luminosity_distance=100.,            # luminosity distance to source (Mpc)\n",
    "theta_jn=0.4,                        # angle between the total angular momentum (both spin and orbital) and the line of sight\n",
    "phase=1.3,                           # phase (radians)\n",
    "ra=1.375,                            # source right ascension (radians)\n",
    "dec=-1.2108,                         # source declination (radians)\n",
    "geocent_time=1126259642.413,         # reference time at geocentre (time of coalescence or peak amplitude) (GPS seconds)\n",
    "psi=2.659                            # gravitational wave polarisation angle\n",
    ")\n",
    "\n",
    "\n",
    "# initialise the waveform generator\n",
    "waveform_generator = bilby.gw.waveform_generator.WaveformGenerator(\n",
    "    sampling_frequency=sampling_frequency,\n",
    "    duration=time_duration,\n",
    "    frequency_domain_source_model=bilby.gw.source.lal_binary_black_hole,\n",
    "    parameters=injection_parameters)\n",
    "\n",
    "# generate a frequency-domain waveform\n",
    "hf_signal = waveform_generator.frequency_domain_strain()\n",
    "\n",
    "# initialise a single interferometer representing LIGO Hanford\n",
    "H1 = bilby.gw.detector.get_empty_interferometer('H1')\n",
    "# set the strain data at the interferometer\n",
    "H1.set_strain_data_from_power_spectral_density(sampling_frequency=sampling_frequency, duration=time_duration)\n",
    "# inject the gravitational wave signal into the interferometer model\n",
    "H1.inject_signal(injection_polarizations=hf_signal, parameters=injection_parameters)\n",
    "\n",
    "IFOs = [H1]\n",
    "\n",
    "# compute the likelihood on each of the signal parameters\n",
    "likelihood = bilby.gw.likelihood.GravitationalWaveTransient(IFOs, waveform_generator)"
   ]
  },
  {
   "cell_type": "markdown",
   "metadata": {},
   "source": [
    "## Prior\n",
    "\n",
    "For this test, we will simply search of the sky position, setting the other parameters to their simulated values."
   ]
  },
  {
   "cell_type": "code",
   "execution_count": 3,
   "metadata": {
    "execution": {
     "iopub.execute_input": "2021-02-05T22:05:43.025484Z",
     "iopub.status.busy": "2021-02-05T22:05:43.024858Z",
     "iopub.status.idle": "2021-02-05T22:05:43.101096Z",
     "shell.execute_reply": "2021-02-05T22:05:43.100588Z"
    }
   },
   "outputs": [
    {
     "name": "stderr",
     "output_type": "stream",
     "text": [
      "15:17 bilby INFO    : No prior given, using default BBH priors in /home/useradd/anaconda3/envs/py39/lib/python3.9/site-packages/bilby/gw/prior_files/precessing_spins_bbh.prior.\n"
     ]
    }
   ],
   "source": [
    "# set the priors on each of the injection parameters to be a delta function at their given value\n",
    "priors = bilby.gw.prior.BBHPriorDict()\n",
    "for key in injection_parameters.keys():\n",
    "    priors[key] = injection_parameters[key]\n",
    "\n",
    "# now reset the priors on the sky position coordinates in order to conduct a sky position search\n",
    "priors['ra'] = bilby.prior.Uniform(0, 2*np.pi, 'ra')\n",
    "priors['dec'] = bilby.prior.Cosine(name='dec', minimum=-np.pi/2, maximum=np.pi/2)"
   ]
  },
  {
   "cell_type": "markdown",
   "metadata": {},
   "source": [
    "## PyMultinest"
   ]
  },
  {
   "cell_type": "code",
   "execution_count": 4,
   "metadata": {
    "execution": {
     "iopub.execute_input": "2021-02-05T22:05:43.105117Z",
     "iopub.status.busy": "2021-02-05T22:05:43.104639Z",
     "iopub.status.idle": "2021-02-05T22:05:43.272793Z",
     "shell.execute_reply": "2021-02-05T22:05:43.272156Z"
    }
   },
   "outputs": [
    {
     "name": "stderr",
     "output_type": "stream",
     "text": [
      "15:17 bilby INFO    : Running for label 'pymultinest', output will be saved to 'outdir'\n",
      "15:17 bilby INFO    : Using lal version 7.2.4\n",
      "15:17 bilby INFO    : Using lal git version Branch: None;Tag: lalsuite-v7.11;Id: 7a2f2aa176ad39eeaede38f6df4a41d6bf226e8f;;Builder: Unknown User <>;Repository status: CLEAN: All modifications committed\n",
      "15:17 bilby INFO    : Using lalsimulation version 4.0.2\n",
      "15:17 bilby INFO    : Using lalsimulation git version Branch: None;Tag: lalsuite-v7.11;Id: 7a2f2aa176ad39eeaede38f6df4a41d6bf226e8f;;Builder: Unknown User <>;Repository status: CLEAN: All modifications committed\n"
     ]
    },
    {
     "ename": "SamplerNotInstalledError",
     "evalue": "Sampler pymultinest is not installed on this system",
     "output_type": "error",
     "traceback": [
      "\u001b[0;31m---------------------------------------------------------------------------\u001b[0m",
      "\u001b[0;31mModuleNotFoundError\u001b[0m                       Traceback (most recent call last)",
      "\u001b[0;32m~/anaconda3/envs/py39/lib/python3.9/site-packages/bilby/core/sampler/base_sampler.py\u001b[0m in \u001b[0;36m_verify_external_sampler\u001b[0;34m(self)\u001b[0m\n\u001b[1;32m    316\u001b[0m         \u001b[0;32mtry\u001b[0m\u001b[0;34m:\u001b[0m\u001b[0;34m\u001b[0m\u001b[0;34m\u001b[0m\u001b[0m\n\u001b[0;32m--> 317\u001b[0;31m             \u001b[0m__import__\u001b[0m\u001b[0;34m(\u001b[0m\u001b[0mexternal_sampler_name\u001b[0m\u001b[0;34m)\u001b[0m\u001b[0;34m\u001b[0m\u001b[0;34m\u001b[0m\u001b[0m\n\u001b[0m\u001b[1;32m    318\u001b[0m         \u001b[0;32mexcept\u001b[0m \u001b[0;34m(\u001b[0m\u001b[0mImportError\u001b[0m\u001b[0;34m,\u001b[0m \u001b[0mSystemExit\u001b[0m\u001b[0;34m)\u001b[0m\u001b[0;34m:\u001b[0m\u001b[0;34m\u001b[0m\u001b[0;34m\u001b[0m\u001b[0m\n",
      "\u001b[0;31mModuleNotFoundError\u001b[0m: No module named 'pymultinest'",
      "\nDuring handling of the above exception, another exception occurred:\n",
      "\u001b[0;31mSamplerNotInstalledError\u001b[0m                  Traceback (most recent call last)",
      "\u001b[0;32m<timed exec>\u001b[0m in \u001b[0;36m<module>\u001b[0;34m\u001b[0m\n",
      "\u001b[0;32m~/anaconda3/envs/py39/lib/python3.9/site-packages/bilby/core/sampler/__init__.py\u001b[0m in \u001b[0;36mrun_sampler\u001b[0;34m(likelihood, priors, label, outdir, sampler, use_ratio, injection_parameters, conversion_function, plot, default_priors_file, clean, meta_data, save, gzip, result_class, npool, **kwargs)\u001b[0m\n\u001b[1;32m    188\u001b[0m         \u001b[0;32mif\u001b[0m \u001b[0msampler\u001b[0m\u001b[0;34m.\u001b[0m\u001b[0mlower\u001b[0m\u001b[0;34m(\u001b[0m\u001b[0;34m)\u001b[0m \u001b[0;32min\u001b[0m \u001b[0mIMPLEMENTED_SAMPLERS\u001b[0m\u001b[0;34m:\u001b[0m\u001b[0;34m\u001b[0m\u001b[0;34m\u001b[0m\u001b[0m\n\u001b[1;32m    189\u001b[0m             \u001b[0msampler_class\u001b[0m \u001b[0;34m=\u001b[0m \u001b[0mIMPLEMENTED_SAMPLERS\u001b[0m\u001b[0;34m[\u001b[0m\u001b[0msampler\u001b[0m\u001b[0;34m.\u001b[0m\u001b[0mlower\u001b[0m\u001b[0;34m(\u001b[0m\u001b[0;34m)\u001b[0m\u001b[0;34m]\u001b[0m\u001b[0;34m\u001b[0m\u001b[0;34m\u001b[0m\u001b[0m\n\u001b[0;32m--> 190\u001b[0;31m             sampler = sampler_class(\n\u001b[0m\u001b[1;32m    191\u001b[0m                 \u001b[0mlikelihood\u001b[0m\u001b[0;34m,\u001b[0m\u001b[0;34m\u001b[0m\u001b[0;34m\u001b[0m\u001b[0m\n\u001b[1;32m    192\u001b[0m                 \u001b[0mpriors\u001b[0m\u001b[0;34m=\u001b[0m\u001b[0mpriors\u001b[0m\u001b[0;34m,\u001b[0m\u001b[0;34m\u001b[0m\u001b[0;34m\u001b[0m\u001b[0m\n",
      "\u001b[0;32m~/anaconda3/envs/py39/lib/python3.9/site-packages/bilby/core/sampler/pymultinest.py\u001b[0m in \u001b[0;36m__init__\u001b[0;34m(self, likelihood, priors, outdir, label, use_ratio, plot, exit_code, skip_import_verification, temporary_directory, **kwargs)\u001b[0m\n\u001b[1;32m     84\u001b[0m         \u001b[0;32mexcept\u001b[0m \u001b[0mImportError\u001b[0m\u001b[0;34m:\u001b[0m\u001b[0;34m\u001b[0m\u001b[0;34m\u001b[0m\u001b[0m\n\u001b[1;32m     85\u001b[0m             \u001b[0musing_mpi\u001b[0m \u001b[0;34m=\u001b[0m \u001b[0;32mFalse\u001b[0m\u001b[0;34m\u001b[0m\u001b[0;34m\u001b[0m\u001b[0m\n\u001b[0;32m---> 86\u001b[0;31m         super(Pymultinest, self).__init__(\n\u001b[0m\u001b[1;32m     87\u001b[0m             \u001b[0mlikelihood\u001b[0m\u001b[0;34m=\u001b[0m\u001b[0mlikelihood\u001b[0m\u001b[0;34m,\u001b[0m\u001b[0;34m\u001b[0m\u001b[0;34m\u001b[0m\u001b[0m\n\u001b[1;32m     88\u001b[0m             \u001b[0mpriors\u001b[0m\u001b[0;34m=\u001b[0m\u001b[0mpriors\u001b[0m\u001b[0;34m,\u001b[0m\u001b[0;34m\u001b[0m\u001b[0;34m\u001b[0m\u001b[0m\n",
      "\u001b[0;32m~/anaconda3/envs/py39/lib/python3.9/site-packages/bilby/core/sampler/base_sampler.py\u001b[0m in \u001b[0;36m__init__\u001b[0;34m(self, temporary_directory, **kwargs)\u001b[0m\n\u001b[1;32m    896\u001b[0m \u001b[0;34m\u001b[0m\u001b[0m\n\u001b[1;32m    897\u001b[0m     \u001b[0;32mdef\u001b[0m \u001b[0m__init__\u001b[0m\u001b[0;34m(\u001b[0m\u001b[0mself\u001b[0m\u001b[0;34m,\u001b[0m \u001b[0mtemporary_directory\u001b[0m\u001b[0;34m,\u001b[0m \u001b[0;34m**\u001b[0m\u001b[0mkwargs\u001b[0m\u001b[0;34m)\u001b[0m\u001b[0;34m:\u001b[0m\u001b[0;34m\u001b[0m\u001b[0;34m\u001b[0m\u001b[0m\n\u001b[0;32m--> 898\u001b[0;31m         \u001b[0msuper\u001b[0m\u001b[0;34m(\u001b[0m\u001b[0m_TemporaryFileSamplerMixin\u001b[0m\u001b[0;34m,\u001b[0m \u001b[0mself\u001b[0m\u001b[0;34m)\u001b[0m\u001b[0;34m.\u001b[0m\u001b[0m__init__\u001b[0m\u001b[0;34m(\u001b[0m\u001b[0;34m**\u001b[0m\u001b[0mkwargs\u001b[0m\u001b[0;34m)\u001b[0m\u001b[0;34m\u001b[0m\u001b[0;34m\u001b[0m\u001b[0m\n\u001b[0m\u001b[1;32m    899\u001b[0m         \u001b[0mself\u001b[0m\u001b[0;34m.\u001b[0m\u001b[0muse_temporary_directory\u001b[0m \u001b[0;34m=\u001b[0m \u001b[0mtemporary_directory\u001b[0m\u001b[0;34m\u001b[0m\u001b[0;34m\u001b[0m\u001b[0m\n\u001b[1;32m    900\u001b[0m         \u001b[0mself\u001b[0m\u001b[0;34m.\u001b[0m\u001b[0m_outputfiles_basename\u001b[0m \u001b[0;34m=\u001b[0m \u001b[0;32mNone\u001b[0m\u001b[0;34m\u001b[0m\u001b[0;34m\u001b[0m\u001b[0m\n",
      "\u001b[0;32m~/anaconda3/envs/py39/lib/python3.9/site-packages/bilby/core/sampler/base_sampler.py\u001b[0m in \u001b[0;36m__init__\u001b[0;34m(self, likelihood, priors, outdir, label, use_ratio, plot, skip_import_verification, injection_parameters, meta_data, result_class, likelihood_benchmark, soft_init, exit_code, npool, **kwargs)\u001b[0m\n\u001b[1;32m    235\u001b[0m         \u001b[0mself\u001b[0m\u001b[0;34m.\u001b[0m\u001b[0m_npool\u001b[0m \u001b[0;34m=\u001b[0m \u001b[0mnpool\u001b[0m\u001b[0;34m\u001b[0m\u001b[0;34m\u001b[0m\u001b[0m\n\u001b[1;32m    236\u001b[0m         \u001b[0;32mif\u001b[0m \u001b[0;32mnot\u001b[0m \u001b[0mskip_import_verification\u001b[0m\u001b[0;34m:\u001b[0m\u001b[0;34m\u001b[0m\u001b[0;34m\u001b[0m\u001b[0m\n\u001b[0;32m--> 237\u001b[0;31m             \u001b[0mself\u001b[0m\u001b[0;34m.\u001b[0m\u001b[0m_verify_external_sampler\u001b[0m\u001b[0;34m(\u001b[0m\u001b[0;34m)\u001b[0m\u001b[0;34m\u001b[0m\u001b[0;34m\u001b[0m\u001b[0m\n\u001b[0m\u001b[1;32m    238\u001b[0m         \u001b[0mself\u001b[0m\u001b[0;34m.\u001b[0m\u001b[0mexternal_sampler_function\u001b[0m \u001b[0;34m=\u001b[0m \u001b[0;32mNone\u001b[0m\u001b[0;34m\u001b[0m\u001b[0;34m\u001b[0m\u001b[0m\n\u001b[1;32m    239\u001b[0m         \u001b[0mself\u001b[0m\u001b[0;34m.\u001b[0m\u001b[0mplot\u001b[0m \u001b[0;34m=\u001b[0m \u001b[0mplot\u001b[0m\u001b[0;34m\u001b[0m\u001b[0;34m\u001b[0m\u001b[0m\n",
      "\u001b[0;32m~/anaconda3/envs/py39/lib/python3.9/site-packages/bilby/core/sampler/base_sampler.py\u001b[0m in \u001b[0;36m_verify_external_sampler\u001b[0;34m(self)\u001b[0m\n\u001b[1;32m    317\u001b[0m             \u001b[0m__import__\u001b[0m\u001b[0;34m(\u001b[0m\u001b[0mexternal_sampler_name\u001b[0m\u001b[0;34m)\u001b[0m\u001b[0;34m\u001b[0m\u001b[0;34m\u001b[0m\u001b[0m\n\u001b[1;32m    318\u001b[0m         \u001b[0;32mexcept\u001b[0m \u001b[0;34m(\u001b[0m\u001b[0mImportError\u001b[0m\u001b[0;34m,\u001b[0m \u001b[0mSystemExit\u001b[0m\u001b[0;34m)\u001b[0m\u001b[0;34m:\u001b[0m\u001b[0;34m\u001b[0m\u001b[0;34m\u001b[0m\u001b[0m\n\u001b[0;32m--> 319\u001b[0;31m             raise SamplerNotInstalledError(\n\u001b[0m\u001b[1;32m    320\u001b[0m                 \u001b[0;34mf\"Sampler {external_sampler_name} is not installed on this system\"\u001b[0m\u001b[0;34m\u001b[0m\u001b[0;34m\u001b[0m\u001b[0m\n\u001b[1;32m    321\u001b[0m             )\n",
      "\u001b[0;31mSamplerNotInstalledError\u001b[0m: Sampler pymultinest is not installed on this system"
     ]
    }
   ],
   "source": [
    "%%time \n",
    "result = bilby.core.sampler.run_sampler(\n",
    "    likelihood, priors=priors, sampler='pymultinest', label='pymultinest',\n",
    "    npoints=2000, verbose=False, resume=False)\n",
    "fig = result.plot_corner(save=False)\n",
    "# show the corner plot\n",
    "plt.show()\n",
    "print(result)"
   ]
  },
  {
   "cell_type": "markdown",
   "metadata": {},
   "source": [
    "## dynesty"
   ]
  },
  {
   "cell_type": "code",
   "execution_count": null,
   "metadata": {
    "execution": {
     "iopub.execute_input": "2021-02-05T22:05:43.276181Z",
     "iopub.status.busy": "2021-02-05T22:05:43.275690Z",
     "iopub.status.idle": "2021-02-05T22:06:44.384185Z",
     "shell.execute_reply": "2021-02-05T22:06:44.384572Z"
    }
   },
   "outputs": [],
   "source": [
    "%%time \n",
    "result = bilby.core.sampler.run_sampler(\n",
    "    likelihood, priors=priors, sampler='dynesty', label='dynesty',\n",
    "    bound='multi', sample='rwalk', npoints=200, walks=1, verbose=False,\n",
    "    update_interval=100)\n",
    "fig = result.plot_corner(save=False)\n",
    "# show the corner plot\n",
    "plt.show()\n",
    "print(result)"
   ]
  },
  {
   "cell_type": "markdown",
   "metadata": {},
   "source": [
    "## Dynamic Nested Sampling (Dynesty)\n",
    "\n",
    "See [the dynesty docs](http://dynesty.readthedocs.io/en/latest/dynamic.html#). Essentially, this methods improves the posterior estimation over that of standard nested sampling."
   ]
  },
  {
   "cell_type": "code",
   "execution_count": null,
   "metadata": {
    "execution": {
     "iopub.execute_input": "2021-02-05T22:06:44.389121Z",
     "iopub.status.busy": "2021-02-05T22:06:44.388707Z",
     "iopub.status.idle": "2021-02-05T22:07:12.688768Z",
     "shell.execute_reply": "2021-02-05T22:07:12.689099Z"
    }
   },
   "outputs": [],
   "source": [
    "%%time \n",
    "result = bilby.core.sampler.run_sampler(\n",
    "    likelihood, priors=priors, sampler='dynesty', label='dynesty_dynamic',\n",
    "    bound='multi', nlive=250, sample='unif', verbose=True,\n",
    "    update_interval=100, dynamic=True)\n",
    "fig = result.plot_corner(save=False)\n",
    "# show the corner plot\n",
    "plt.show()\n",
    "print(result)"
   ]
  },
  {
   "cell_type": "markdown",
   "metadata": {},
   "source": [
    "## ptemcee"
   ]
  },
  {
   "cell_type": "code",
   "execution_count": null,
   "metadata": {
    "execution": {
     "iopub.execute_input": "2021-02-05T22:07:12.692452Z",
     "iopub.status.busy": "2021-02-05T22:07:12.692016Z",
     "iopub.status.idle": "2021-02-05T22:12:28.559510Z",
     "shell.execute_reply": "2021-02-05T22:12:28.560201Z"
    }
   },
   "outputs": [],
   "source": [
    "%%time \n",
    "result = bilby.core.sampler.run_sampler(\n",
    "    likelihood, priors=priors, sampler='ptemcee', label='ptemcee',\n",
    "    nwalkers=100, nsteps=200, nburn=100, ntemps=2,\n",
    "    tqdm='tqdm_notebook')\n",
    "fig = result.plot_corner(save=False)\n",
    "# show the corner plot\n",
    "plt.show()\n",
    "print(result)"
   ]
  }
 ],
 "metadata": {
  "kernelspec": {
   "display_name": "py39",
   "language": "python",
   "name": "python3"
  },
  "language_info": {
   "codemirror_mode": {
    "name": "ipython",
    "version": 3
   },
   "file_extension": ".py",
   "mimetype": "text/x-python",
   "name": "python",
   "nbconvert_exporter": "python",
   "pygments_lexer": "ipython3",
   "version": "3.9.15"
  },
  "vscode": {
   "interpreter": {
    "hash": "ce95bca6af9915c87af1d7884c75225323533e32849729132b38f7ef50387511"
   }
  }
 },
 "nbformat": 4,
 "nbformat_minor": 2
}
