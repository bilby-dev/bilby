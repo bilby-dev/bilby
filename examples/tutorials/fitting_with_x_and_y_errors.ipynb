{
 "cells": [
  {
   "cell_type": "markdown",
   "metadata": {},
   "source": [
    "# Fitting a model to data with both x and y errors with `BILBY`\n",
    "\n",
    "Usually when we fit a model to data with a Gaussian Likelihood we assume that we know x values exactly. This is almost never the case. Here we show how to fit a model with errors in both x and y."
   ]
  },
  {
   "cell_type": "code",
   "execution_count": 1,
   "metadata": {},
   "outputs": [
    {
     "name": "stdout",
     "output_type": "stream",
     "text": [
      "Populating the interactive namespace from numpy and matplotlib\n"
     ]
    }
   ],
   "source": [
    "import bilby\n",
    "import inspect\n",
    "%pylab inline"
   ]
  },
  {
   "cell_type": "markdown",
   "metadata": {},
   "source": [
    "### First we create the data and plot it"
   ]
  },
  {
   "cell_type": "code",
   "execution_count": 2,
   "metadata": {},
   "outputs": [
    {
     "data": {
      "image/png": "[encoded data removed]",
      "text/plain": [
       "<Figure size 640x480 with 1 Axes>"
      ]
     },
     "metadata": {},
     "output_type": "display_data"
    }
   ],
   "source": [
    "#define our model, a line\n",
    "def model(x, m, c, **kwargs):\n",
    "    y = m*x + c\n",
    "    return y\n",
    "\n",
    "#make a function to create and plot our data\n",
    "def make_data(points, m , c, xerr, yerr, seed):\n",
    "    np.random.seed(int(seed))\n",
    "    xtrue = np.linspace(0,100,points)\n",
    "    ytrue = model(x = xtrue, m = m, c = c)\n",
    "\n",
    "    xerr = xerr * np.random.randn(points)\n",
    "    yerr = yerr * np.random.randn(points)\n",
    "    xobs = xtrue + xerr\n",
    "    yobs = ytrue + yerr\n",
    "    \n",
    "    plt.errorbar(xobs, yobs, xerr = xerr, yerr = yerr, fmt = 'x')\n",
    "    plt.errorbar(xtrue, ytrue, yerr = yerr, color = 'black', alpha = 0.5)\n",
    "    plt.xlim(0,100)\n",
    "    plt.show()\n",
    "    \n",
    "    data = {'xtrue': xtrue, 'ytrue':ytrue, 'xobs':xobs, 'yobs':yobs, 'xerr':xerr, 'yerr':yerr}\n",
    "    \n",
    "    return data\n",
    "\n",
    "data = make_data(points = 30, m = 5, c = 10, xerr = 5, yerr = 5, seed = 123)"
   ]
  },
  {
   "cell_type": "markdown",
   "metadata": {},
   "source": [
    "### Now lets set up the prior and bilby output directory"
   ]
  },
  {
   "cell_type": "code",
   "execution_count": 3,
   "metadata": {},
   "outputs": [],
   "source": [
    "#setting up bilby priors\n",
    "priors = dict(m=bilby.core.prior.Uniform(0, 30, 'm'),\n",
    "              c=bilby.core.prior.Uniform(0, 30, 'c'))\n",
    "\n",
    "outdir = 'outdir'\n",
    "livepoints = 100\n",
    "walks = 100"
   ]
  },
  {
   "cell_type": "markdown",
   "metadata": {},
   "source": [
    "### Our first step is to recover the straight line using a simple Gaussian Likelihood that only takes into account the y errors. Under the assumption we know x exactly. In this case, we pass in xtrue for x"
   ]
  },
  {
   "cell_type": "code",
   "execution_count": 4,
   "metadata": {},
   "outputs": [
    {
     "name": "stderr",
     "output_type": "stream",
     "text": [
      "15:41 bilby INFO    : Running for label 'xtrue_1D_Gaussian', output will be saved to 'outdir'\n",
      "15:41 bilby INFO    : Analysis priors:\n",
      "15:41 bilby INFO    : m=Uniform(minimum=0, maximum=30, name='m', latex_label='m', unit=None, boundary=None)\n",
      "15:41 bilby INFO    : c=Uniform(minimum=0, maximum=30, name='c', latex_label='c', unit=None, boundary=None)\n",
      "15:41 bilby INFO    : Analysis likelihood class: <class 'bilby.core.likelihood.GaussianLikelihood'>\n",
      "15:41 bilby INFO    : Analysis likelihood noise evidence: nan\n",
      "15:41 bilby INFO    : Single likelihood evaluation took 1.107e-04 s\n",
      "15:41 bilby INFO    : Using sampler Dynesty with kwargs {'nlive': 100, 'bound': 'multi', 'sample': 'rwalk', 'periodic': None, 'reflective': None, 'update_interval': None, 'first_update': None, 'npdim': None, 'rstate': None, 'queue_size': 1, 'pool': None, 'use_pool': None, 'live_points': None, 'logl_args': None, 'logl_kwargs': None, 'ptform_args': None, 'ptform_kwargs': None, 'gradient': None, 'grad_args': None, 'grad_kwargs': None, 'compute_jac': False, 'enlarge': None, 'bootstrap': None, 'walks': 100, 'facc': 0.2, 'slices': None, 'fmove': 0.9, 'max_move': 100, 'update_func': None, 'ncdim': None, 'blob': False, 'save_history': False, 'history_filename': None, 'maxiter': None, 'maxcall': None, 'dlogz': 0.1, 'logl_max': inf, 'n_effective': None, 'add_live': True, 'print_progress': True, 'print_func': <bound method Dynesty._print_func of <bilby.core.sampler.dynesty.Dynesty object at 0x7f240501eb80>>, 'save_bounds': False, 'checkpoint_file': None, 'checkpoint_every': 60, 'resume': False}\n",
      "15:41 bilby INFO    : Checkpoint every check_point_delta_t = 600s\n",
      "15:41 bilby INFO    : Using dynesty version 2.0.3\n",
      "15:41 bilby INFO    : Using the bilby-implemented rwalk sample method with ACT estimated walks\n",
      "15:41 bilby INFO    : Resume file outdir/xtrue_1D_Gaussian_resume.pickle does not exist.\n",
      "15:41 bilby INFO    : Generating initial points from the prior\n"
     ]
    },
    {
     "data": {
      "application/vnd.jupyter.widget-view+json": {
       "model_id": "b715e2149730450d9d21711ded921392",
       "version_major": 2,
       "version_minor": 0
      },
      "text/plain": [
       "1it [00:00, ?it/s]"
      ]
     },
     "metadata": {},
     "output_type": "display_data"
    },
    {
     "name": "stderr",
     "output_type": "stream",
     "text": [
      "15:42 bilby INFO    : Written checkpoint file outdir/xtrue_1D_Gaussian_resume.pickle\n",
      "15:42 bilby INFO    : Sampling time: 0:00:48.385689\n"
     ]
    },
    {
     "name": "stdout",
     "output_type": "stream",
     "text": [
      "\n"
     ]
    },
    {
     "name": "stderr",
     "output_type": "stream",
     "text": [
      "<frozen importlib._bootstrap>:228: RuntimeWarning: numpy.ndarray size changed, may indicate binary incompatibility. Expected 80 from C header, got 88 from PyObject\n",
      "15:42 bilby INFO    : Summary of results:\n",
      "nsamples: 1859\n",
      "ln_noise_evidence:    nan\n",
      "ln_evidence: -88.251 +/-  0.437\n",
      "ln_bayes_factor:    nan +/-  0.437\n",
      "\n"
     ]
    }
   ],
   "source": [
    "OneDGaussian_knownx = bilby.core.likelihood.GaussianLikelihood(x = data['xtrue'], y = data['yobs'], func = model, sigma = data['yerr'])\n",
    "result_1D_xtrue = bilby.run_sampler(\n",
    "    likelihood=OneDGaussian_knownx, priors=priors, sampler='dynesty', npoints=livepoints,\n",
    "    walks=walks, outdir=outdir, label='xtrue_1D_Gaussian')"
   ]
  },
  {
   "cell_type": "code",
   "execution_count": 5,
   "metadata": {},
   "outputs": [
    {
     "name": "stderr",
     "output_type": "stream",
     "text": [
      "15:42 bilby INFO    : Plotting 1000 draws\n",
      "15:42 bilby INFO    : Plotting maximum likelihood\n"
     ]
    }
   ],
   "source": [
    "result_1D_xtrue.plot_corner(truth=dict(m=5, c = 10), titles = True)\n",
    "result_1D_xtrue.plot_with_data(model = model, x = data['xtrue'], y = data['yobs'], ndraws=1000, npoints=100)\n",
    "plt.show()"
   ]
  },
  {
   "cell_type": "markdown",
   "metadata": {},
   "source": [
    "### As expected this is easy to recover and the sampler does a good job. However this was made too easy - by passing in the 'true' values of x. Lets see what happens when we pass in the observed values of x"
   ]
  },
  {
   "cell_type": "code",
   "execution_count": 6,
   "metadata": {},
   "outputs": [
    {
     "name": "stderr",
     "output_type": "stream",
     "text": [
      "15:43 bilby INFO    : Running for label 'xobs_1D_Gaussian', output will be saved to 'outdir'\n",
      "15:43 bilby INFO    : Analysis priors:\n",
      "15:43 bilby INFO    : m=Uniform(minimum=0, maximum=30, name='m', latex_label='m', unit=None, boundary=None)\n",
      "15:43 bilby INFO    : c=Uniform(minimum=0, maximum=30, name='c', latex_label='c', unit=None, boundary=None)\n",
      "15:43 bilby INFO    : Analysis likelihood class: <class 'bilby.core.likelihood.GaussianLikelihood'>\n",
      "15:43 bilby INFO    : Analysis likelihood noise evidence: nan\n",
      "15:43 bilby INFO    : Single likelihood evaluation took 1.118e-04 s\n",
      "15:43 bilby INFO    : Using sampler Dynesty with kwargs {'nlive': 100, 'bound': 'multi', 'sample': 'rwalk', 'periodic': None, 'reflective': None, 'update_interval': None, 'first_update': None, 'npdim': None, 'rstate': None, 'queue_size': 1, 'pool': None, 'use_pool': None, 'live_points': None, 'logl_args': None, 'logl_kwargs': None, 'ptform_args': None, 'ptform_kwargs': None, 'gradient': None, 'grad_args': None, 'grad_kwargs': None, 'compute_jac': False, 'enlarge': None, 'bootstrap': None, 'walks': 100, 'facc': 0.2, 'slices': None, 'fmove': 0.9, 'max_move': 100, 'update_func': None, 'ncdim': None, 'blob': False, 'save_history': False, 'history_filename': None, 'maxiter': None, 'maxcall': None, 'dlogz': 0.1, 'logl_max': inf, 'n_effective': None, 'add_live': True, 'print_progress': True, 'print_func': <bound method Dynesty._print_func of <bilby.core.sampler.dynesty.Dynesty object at 0x7f2400035df0>>, 'save_bounds': False, 'checkpoint_file': None, 'checkpoint_every': 60, 'resume': False}\n",
      "15:43 bilby INFO    : Checkpoint every check_point_delta_t = 600s\n",
      "15:43 bilby INFO    : Using dynesty version 2.0.3\n",
      "15:43 bilby INFO    : Using the bilby-implemented rwalk sample method with ACT estimated walks\n",
      "15:43 bilby INFO    : Resume file outdir/xobs_1D_Gaussian_resume.pickle does not exist.\n",
      "15:43 bilby INFO    : Generating initial points from the prior\n"
     ]
    },
    {
     "data": {
      "application/vnd.jupyter.widget-view+json": {
       "model_id": "2843ef7a8f1d492b9ed2a96b044139bb",
       "version_major": 2,
       "version_minor": 0
      },
      "text/plain": [
       "1it [00:00, ?it/s]"
      ]
     },
     "metadata": {},
     "output_type": "display_data"
    },
    {
     "name": "stderr",
     "output_type": "stream",
     "text": [
      "15:44 bilby INFO    : Written checkpoint file outdir/xobs_1D_Gaussian_resume.pickle\n",
      "/home/useradd/anaconda3/envs/py39/lib/python3.9/site-packages/dynesty/plotting.py:318: UserWarning: Attempting to set identical bottom == top == 0.0 results in singular transformations; automatically expanding.\n",
      "  axes[i].set_ylim([ymin, ymax])\n",
      "15:44 bilby INFO    : Sampling time: 0:00:58.538697\n"
     ]
    },
    {
     "name": "stdout",
     "output_type": "stream",
     "text": [
      "\n"
     ]
    },
    {
     "name": "stderr",
     "output_type": "stream",
     "text": [
      "15:44 bilby INFO    : Summary of results:\n",
      "nsamples: 2845\n",
      "ln_noise_evidence:    nan\n",
      "ln_evidence: -3119014.073 +/-  0.564\n",
      "ln_bayes_factor:    nan +/-  0.564\n",
      "\n"
     ]
    }
   ],
   "source": [
    "OneDGaussian_unknownx = bilby.core.likelihood.GaussianLikelihood(x = data['xobs'], y = data['yobs'], \n",
    "                                                                 func = model, sigma = data['yerr'])\n",
    "result_1D_xobs = bilby.run_sampler(\n",
    "    likelihood=OneDGaussian_unknownx, priors=priors, sampler='dynesty', npoints=livepoints,\n",
    "    walks=walks, outdir=outdir, label='xobs_1D_Gaussian')"
   ]
  },
  {
   "cell_type": "code",
   "execution_count": 7,
   "metadata": {},
   "outputs": [
    {
     "name": "stderr",
     "output_type": "stream",
     "text": [
      "15:45 bilby INFO    : Plotting 1000 draws\n",
      "15:45 bilby INFO    : Plotting maximum likelihood\n"
     ]
    }
   ],
   "source": [
    "result_1D_xobs.plot_corner(truth=dict(m=5, c = 10), titles = True)\n",
    "result_1D_xobs.plot_with_data(model = model, x = data['xobs'], y = data['yobs'], ndraws=1000, npoints=100)\n",
    "plt.show()"
   ]
  },
  {
   "cell_type": "markdown",
   "metadata": {},
   "source": [
    "### As expected, this is significantly worse. Let us now define a new likelihood which takes into account x errors but you also pass in xtrue"
   ]
  },
  {
   "cell_type": "code",
   "execution_count": 8,
   "metadata": {},
   "outputs": [],
   "source": [
    "class TwoDGaussianLikelihood_knownxtrue(bilby.Likelihood):\n",
    "    def __init__(self, xtrue, xobs, yobs, xerr, yerr, function):\n",
    "        \"\"\"\n",
    "\n",
    "        Parameters\n",
    "        ----------\n",
    "        xtrue: array_like \n",
    "            The true injected x values\n",
    "        xobs, yobs: array_like\n",
    "            The data to analyse\n",
    "        xerr, yerr: array_like\n",
    "            The standard deviation of the noise\n",
    "        function:\n",
    "            The python function to fit to the data\n",
    "        \"\"\"\n",
    "        self.xobs = xobs\n",
    "        self.xtrue = xtrue\n",
    "        self.yobs = yobs\n",
    "        self.yerr = yerr\n",
    "        self.xerr = xerr\n",
    "        self.function = function\n",
    "        parameters = inspect.getargspec(function).args\n",
    "        parameters.pop(0)\n",
    "        self.parameters = dict.fromkeys(parameters)\n",
    "        self._marginalized_parameters = list()\n",
    "\n",
    "    def log_likelihood(self):\n",
    "        resy = self.yobs - self.function(self.xtrue, **self.parameters)\n",
    "        resx = self.xobs - self.xtrue\n",
    "        return -0.5 * (np.sum(((resy) / self.yerr) ** 2) + np.sum(((resx) / self.xerr) ** 2))"
   ]
  },
  {
   "cell_type": "code",
   "execution_count": 9,
   "metadata": {},
   "outputs": [
    {
     "name": "stderr",
     "output_type": "stream",
     "text": [
      "/tmp/ipykernel_2165/2097893589.py:22: DeprecationWarning: inspect.getargspec() is deprecated since Python 3.0, use inspect.signature() or inspect.getfullargspec()\n",
      "  parameters = inspect.getargspec(function).args\n",
      "18:46 bilby INFO    : Running for label 'knownx_2D_Gaussian', output will be saved to 'outdir'\n",
      "18:46 bilby INFO    : Analysis priors:\n",
      "18:46 bilby INFO    : m=Uniform(minimum=0, maximum=30, name='m', latex_label='m', unit=None, boundary=None)\n",
      "18:46 bilby INFO    : c=Uniform(minimum=0, maximum=30, name='c', latex_label='c', unit=None, boundary=None)\n",
      "18:46 bilby INFO    : Analysis likelihood class: <class '__main__.TwoDGaussianLikelihood_knownxtrue'>\n",
      "18:46 bilby INFO    : Analysis likelihood noise evidence: nan\n",
      "18:46 bilby INFO    : Single likelihood evaluation took 5.105e-05 s\n",
      "18:46 bilby INFO    : Using sampler Dynesty with kwargs {'nlive': 100, 'bound': 'multi', 'sample': 'rwalk', 'periodic': None, 'reflective': None, 'update_interval': None, 'first_update': None, 'npdim': None, 'rstate': None, 'queue_size': 1, 'pool': None, 'use_pool': None, 'live_points': None, 'logl_args': None, 'logl_kwargs': None, 'ptform_args': None, 'ptform_kwargs': None, 'gradient': None, 'grad_args': None, 'grad_kwargs': None, 'compute_jac': False, 'enlarge': None, 'bootstrap': None, 'walks': 100, 'facc': 0.2, 'slices': None, 'fmove': 0.9, 'max_move': 100, 'update_func': None, 'ncdim': None, 'blob': False, 'save_history': False, 'history_filename': None, 'maxiter': None, 'maxcall': None, 'dlogz': 0.1, 'logl_max': inf, 'n_effective': None, 'add_live': True, 'print_progress': True, 'print_func': <bound method Dynesty._print_func of <bilby.core.sampler.dynesty.Dynesty object at 0x7f24029e62e0>>, 'save_bounds': False, 'checkpoint_file': None, 'checkpoint_every': 60, 'resume': False}\n",
      "18:46 bilby INFO    : Checkpoint every check_point_delta_t = 600s\n",
      "18:46 bilby INFO    : Using dynesty version 2.0.3\n",
      "18:46 bilby INFO    : Using the bilby-implemented rwalk sample method with ACT estimated walks\n",
      "18:46 bilby INFO    : Resume file outdir/knownx_2D_Gaussian_resume.pickle does not exist.\n",
      "18:46 bilby INFO    : Generating initial points from the prior\n"
     ]
    },
    {
     "data": {
      "application/vnd.jupyter.widget-view+json": {
       "model_id": "8bba27106c4f41b4aa10befa99b1da90",
       "version_major": 2,
       "version_minor": 0
      },
      "text/plain": [
       "1it [00:00, ?it/s]"
      ]
     },
     "metadata": {},
     "output_type": "display_data"
    },
    {
     "name": "stderr",
     "output_type": "stream",
     "text": [
      "18:46 bilby INFO    : Written checkpoint file outdir/knownx_2D_Gaussian_resume.pickle\n",
      "18:46 bilby INFO    : Sampling time: 0:00:41.492774\n",
      "18:46 bilby INFO    : Summary of results:\n",
      "nsamples: 1926\n",
      "ln_noise_evidence:    nan\n",
      "ln_evidence: -45.457 +/-  0.448\n",
      "ln_bayes_factor:    nan +/-  0.448\n",
      "\n"
     ]
    },
    {
     "name": "stdout",
     "output_type": "stream",
     "text": [
      "\n"
     ]
    }
   ],
   "source": [
    "TwoDGaussian_knownx = TwoDGaussianLikelihood_knownxtrue(xtrue = data['xtrue'], xobs = data['xobs'], \n",
    "                                                        yobs = data['yobs'], xerr=data['xerr'], \n",
    "                                                        yerr = data['yerr'], function=model)\n",
    "result_2D_knownx = bilby.run_sampler(\n",
    "    likelihood=TwoDGaussian_knownx, priors=priors, sampler='dynesty', npoints=livepoints,\n",
    "    walks=walks, outdir=outdir, label='knownx_2D_Gaussian')"
   ]
  },
  {
   "cell_type": "code",
   "execution_count": 12,
   "metadata": {},
   "outputs": [
    {
     "name": "stderr",
     "output_type": "stream",
     "text": [
      "20:09 bilby INFO    : Plotting 1000 draws\n",
      "20:09 bilby INFO    : Plotting maximum likelihood\n"
     ]
    }
   ],
   "source": [
    "result_2D_knownx.plot_corner(truth=dict(m=5, c = 10), titles = True)\n",
    "result_2D_knownx.plot_with_data(model = model, x = data['xobs'], y = data['yobs'], ndraws=1000, npoints=100)\n",
    "plt.show()"
   ]
  },
  {
   "cell_type": "markdown",
   "metadata": {},
   "source": [
    "### This works well, however it still is not realistic as one still needs to 'know' the true x values. Getting around this requires marginalisation of the true x values or sampling over them.  See discussion in section 7 of https://arxiv.org/pdf/1008.4686.pdf"
   ]
  },
  {
   "cell_type": "code",
   "execution_count": 14,
   "metadata": {},
   "outputs": [],
   "source": [
    "class TwoDGaussianLikelihood_unknownx(bilby.Likelihood):\n",
    "    def __init__(self, xobs, yobs, xerr, yerr, function):\n",
    "        \"\"\"\n",
    "\n",
    "        Parameters\n",
    "        ----------\n",
    "        xobs, yobs: array_like\n",
    "            The data to analyse\n",
    "        xerr, yerr: array_like\n",
    "            The standard deviation of the noise\n",
    "        function:\n",
    "            The python function to fit to the data\n",
    "        \"\"\"\n",
    "        self.xobs = xobs\n",
    "        self.yobs = yobs\n",
    "        self.yerr = yerr\n",
    "        self.xerr = xerr\n",
    "        self.function = function\n",
    "        parameters = inspect.getargspec(function).args\n",
    "        parameters.pop(0)\n",
    "        self.parameters = dict.fromkeys(parameters)\n",
    "        self._marginalized_parameters = list()\n",
    "\n",
    "    def log_likelihood(self):\n",
    "        m = self.parameters['m']\n",
    "        v = np.array([-m, 1.0])\n",
    "        \n",
    "        Sigma2 = (self.xerr*m)**2 + self.yerr**2\n",
    "        model_y = self.function(self.xobs, **self.parameters)\n",
    "        Delta = self.yobs - model_y\n",
    "\n",
    "        ll = -0.5 * np.sum(Delta**2 / Sigma2 + np.log(Sigma2))\n",
    "                \n",
    "        return ll"
   ]
  },
  {
   "cell_type": "code",
   "execution_count": 15,
   "metadata": {},
   "outputs": [
    {
     "name": "stderr",
     "output_type": "stream",
     "text": [
      "/tmp/ipykernel_2165/2779546879.py:19: DeprecationWarning: inspect.getargspec() is deprecated since Python 3.0, use inspect.signature() or inspect.getfullargspec()\n",
      "  parameters = inspect.getargspec(function).args\n",
      "20:09 bilby INFO    : Running for label 'unknownx_2D_Gaussian', output will be saved to 'outdir'\n",
      "20:10 bilby INFO    : Analysis priors:\n",
      "20:10 bilby INFO    : m=Uniform(minimum=0, maximum=30, name='m', latex_label='m', unit=None, boundary=None)\n",
      "20:10 bilby INFO    : c=Uniform(minimum=0, maximum=30, name='c', latex_label='c', unit=None, boundary=None)\n",
      "20:10 bilby INFO    : Analysis likelihood class: <class '__main__.TwoDGaussianLikelihood_unknownx'>\n",
      "20:10 bilby INFO    : Analysis likelihood noise evidence: nan\n",
      "20:10 bilby INFO    : Single likelihood evaluation took 1.068e-04 s\n",
      "20:10 bilby INFO    : Using sampler Dynesty with kwargs {'nlive': 100, 'bound': 'multi', 'sample': 'rwalk', 'periodic': None, 'reflective': None, 'update_interval': None, 'first_update': None, 'npdim': None, 'rstate': None, 'queue_size': 1, 'pool': None, 'use_pool': None, 'live_points': None, 'logl_args': None, 'logl_kwargs': None, 'ptform_args': None, 'ptform_kwargs': None, 'gradient': None, 'grad_args': None, 'grad_kwargs': None, 'compute_jac': False, 'enlarge': None, 'bootstrap': None, 'walks': 100, 'facc': 0.2, 'slices': None, 'fmove': 0.9, 'max_move': 100, 'update_func': None, 'ncdim': None, 'blob': False, 'save_history': False, 'history_filename': None, 'maxiter': None, 'maxcall': None, 'dlogz': 0.1, 'logl_max': inf, 'n_effective': None, 'add_live': True, 'print_progress': True, 'print_func': <bound method Dynesty._print_func of <bilby.core.sampler.dynesty.Dynesty object at 0x7f2400035790>>, 'save_bounds': False, 'checkpoint_file': None, 'checkpoint_every': 60, 'resume': False}\n",
      "20:10 bilby INFO    : Checkpoint every check_point_delta_t = 600s\n",
      "20:10 bilby INFO    : Using dynesty version 2.0.3\n",
      "20:10 bilby INFO    : Using the bilby-implemented rwalk sample method with ACT estimated walks\n",
      "20:10 bilby INFO    : Resume file outdir/unknownx_2D_Gaussian_resume.pickle does not exist.\n",
      "20:10 bilby INFO    : Generating initial points from the prior\n"
     ]
    },
    {
     "data": {
      "application/vnd.jupyter.widget-view+json": {
       "model_id": "91e6f07adf3d4ee0b08fd238a84c40b5",
       "version_major": 2,
       "version_minor": 0
      },
      "text/plain": [
       "1it [00:00, ?it/s]"
      ]
     },
     "metadata": {},
     "output_type": "display_data"
    },
    {
     "name": "stderr",
     "output_type": "stream",
     "text": [
      "20:10 bilby INFO    : Written checkpoint file outdir/unknownx_2D_Gaussian_resume.pickle\n",
      "20:10 bilby INFO    : Sampling time: 0:00:12.944703\n",
      "20:10 bilby INFO    : Summary of results:\n",
      "nsamples: 942\n",
      "ln_noise_evidence:    nan\n",
      "ln_evidence: -116.043 +/-  0.266\n",
      "ln_bayes_factor:    nan +/-  0.266\n",
      "\n"
     ]
    },
    {
     "name": "stdout",
     "output_type": "stream",
     "text": [
      "\n"
     ]
    }
   ],
   "source": [
    "TwoDGaussian_unknownx = TwoDGaussianLikelihood_unknownx(xobs = data['xobs'], yobs = data['yobs'], \n",
    "                                                        xerr= data['xerr'], yerr = data['yerr'],\n",
    "                                                        function=model)\n",
    "result_2D_unknownx = bilby.run_sampler(\n",
    "    likelihood=TwoDGaussian_unknownx, priors=priors, sampler='dynesty', npoints=livepoints,\n",
    "    walks=walks, outdir=outdir, label='unknownx_2D_Gaussian')"
   ]
  },
  {
   "cell_type": "code",
   "execution_count": 16,
   "metadata": {},
   "outputs": [
    {
     "name": "stderr",
     "output_type": "stream",
     "text": [
      "20:10 bilby INFO    : Plotting 1000 draws\n",
      "20:10 bilby INFO    : Plotting maximum likelihood\n"
     ]
    }
   ],
   "source": [
    "result_2D_unknownx.plot_corner(truth=dict(m=5, c = 10), titles = True)\n",
    "result_2D_unknownx.plot_with_data(model = model, x = data['xobs'], y = data['yobs'], ndraws=1000, npoints=100)\n",
    "plt.show()"
   ]
  }
 ],
 "metadata": {
  "kernelspec": {
   "display_name": "py39",
   "language": "python",
   "name": "python3"
  },
  "language_info": {
   "codemirror_mode": {
    "name": "ipython",
    "version": 3
   },
   "file_extension": ".py",
   "mimetype": "text/x-python",
   "name": "python",
   "nbconvert_exporter": "python",
   "pygments_lexer": "ipython3",
   "version": "3.9.15"
  },
  "vscode": {
   "interpreter": {
    "hash": "ce95bca6af9915c87af1d7884c75225323533e32849729132b38f7ef50387511"
   }
  }
 },
 "nbformat": 4,
 "nbformat_minor": 2
}
